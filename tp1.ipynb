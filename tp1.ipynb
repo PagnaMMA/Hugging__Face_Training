{
 "cells": [
  {
   "cell_type": "code",
   "execution_count": 1,
   "metadata": {},
   "outputs": [
    {
     "name": "stderr",
     "output_type": "stream",
     "text": [
      "/home/student24/Documents/AIMS_Folder/Review_Block/Review_B6/NLP/HuggingFace_Course/HuggFace/lib/python3.12/site-packages/tqdm/auto.py:21: TqdmWarning: IProgress not found. Please update jupyter and ipywidgets. See https://ipywidgets.readthedocs.io/en/stable/user_install.html\n",
      "  from .autonotebook import tqdm as notebook_tqdm\n",
      "2025-04-02 11:46:18.775725: I tensorflow/core/util/port.cc:153] oneDNN custom operations are on. You may see slightly different numerical results due to floating-point round-off errors from different computation orders. To turn them off, set the environment variable `TF_ENABLE_ONEDNN_OPTS=0`.\n",
      "2025-04-02 11:46:18.931645: E external/local_xla/xla/stream_executor/cuda/cuda_fft.cc:467] Unable to register cuFFT factory: Attempting to register factory for plugin cuFFT when one has already been registered\n",
      "WARNING: All log messages before absl::InitializeLog() is called are written to STDERR\n",
      "E0000 00:00:1743590778.988780  265489 cuda_dnn.cc:8579] Unable to register cuDNN factory: Attempting to register factory for plugin cuDNN when one has already been registered\n",
      "E0000 00:00:1743590779.002525  265489 cuda_blas.cc:1407] Unable to register cuBLAS factory: Attempting to register factory for plugin cuBLAS when one has already been registered\n",
      "W0000 00:00:1743590779.120616  265489 computation_placer.cc:177] computation placer already registered. Please check linkage and avoid linking the same target more than once.\n",
      "W0000 00:00:1743590779.120647  265489 computation_placer.cc:177] computation placer already registered. Please check linkage and avoid linking the same target more than once.\n",
      "W0000 00:00:1743590779.120650  265489 computation_placer.cc:177] computation placer already registered. Please check linkage and avoid linking the same target more than once.\n",
      "W0000 00:00:1743590779.120653  265489 computation_placer.cc:177] computation placer already registered. Please check linkage and avoid linking the same target more than once.\n",
      "2025-04-02 11:46:19.132837: I tensorflow/core/platform/cpu_feature_guard.cc:210] This TensorFlow binary is optimized to use available CPU instructions in performance-critical operations.\n",
      "To enable the following instructions: AVX2 AVX_VNNI FMA, in other operations, rebuild TensorFlow with the appropriate compiler flags.\n"
     ]
    }
   ],
   "source": [
    "from transformers import pipeline"
   ]
  },
  {
   "cell_type": "code",
   "execution_count": 2,
   "metadata": {},
   "outputs": [
    {
     "name": "stderr",
     "output_type": "stream",
     "text": [
      "No model was supplied, defaulted to distilbert/distilbert-base-uncased-finetuned-sst-2-english and revision 714eb0f (https://huggingface.co/distilbert/distilbert-base-uncased-finetuned-sst-2-english).\n",
      "Using a pipeline without specifying a model name and revision in production is not recommended.\n",
      "Device set to use cpu\n"
     ]
    },
    {
     "data": {
      "text/plain": [
       "[{'label': 'POSITIVE', 'score': 0.9998705387115479}]"
      ]
     },
     "execution_count": 2,
     "metadata": {},
     "output_type": "execute_result"
    }
   ],
   "source": [
    "classifier = pipeline(\"sentiment-analysis\")\n",
    "classifier(\"I've been waiting for a HuggingFace course my whole life.\")\n",
    "classifier(\"I hate waiting.\")\n",
    "classifier(\"I love you.\")"
   ]
  },
  {
   "cell_type": "code",
   "execution_count": 3,
   "metadata": {},
   "outputs": [
    {
     "data": {
      "text/plain": [
       "[{'label': 'POSITIVE', 'score': 0.9598049521446228},\n",
       " {'label': 'NEGATIVE', 'score': 0.9994558691978455}]"
      ]
     },
     "execution_count": 3,
     "metadata": {},
     "output_type": "execute_result"
    }
   ],
   "source": [
    "classifier(\n",
    "    [\"I've been waiting for a HuggingFace course my whole life.\", \"I hate this so much!\"]\n",
    ")"
   ]
  },
  {
   "cell_type": "markdown",
   "metadata": {},
   "source": [
    "### Zero-shot classification"
   ]
  },
  {
   "cell_type": "code",
   "execution_count": 6,
   "metadata": {},
   "outputs": [
    {
     "name": "stderr",
     "output_type": "stream",
     "text": [
      "No model was supplied, defaulted to facebook/bart-large-mnli and revision d7645e1 (https://huggingface.co/facebook/bart-large-mnli).\n",
      "Using a pipeline without specifying a model name and revision in production is not recommended.\n"
     ]
    },
    {
     "name": "stdout",
     "output_type": "stream",
     "text": [
      "{\"timestamp\":\"2025-04-02T11:16:21.174137Z\",\"level\":\"WARN\",\"fields\":{\"message\":\"Reqwest(reqwest::Error { kind: Request, url: \\\"https://transfer.xethub.hf.co/xorbs/default/cd3b670ac066da9ee1388f304e5e83225790a4100bba97ea56f444d8d01c02e1?X-Xet-Signed-Range=bytes%3D25470751-28185611&Expires=1743595144&Policy=eyJTdGF0ZW1lbnQiOlt7IlJlc291cmNlIjoiaHR0cHM6Ly90cmFuc2Zlci54ZXRodWIuaGYuY28veG9yYnMvZGVmYXVsdC9jZDNiNjcwYWMwNjZkYTllZTEzODhmMzA0ZTVlODMyMjU3OTBhNDEwMGJiYTk3ZWE1NmY0NDRkOGQwMWMwMmUxP1gtWGV0LVNpZ25lZC1SYW5nZT1ieXRlcyUzRDI1NDcwNzUxLTI4MTg1NjExIiwiQ29uZGl0aW9uIjp7IkRhdGVMZXNzVGhhbiI6eyJBV1M6RXBvY2hUaW1lIjoxNzQzNTk1MTQ0fX19XX0_&Signature=lBWRMwPNLy~TwcuteBQAR1auxfchLcxJM4nFT8J9OtyrH~5m1pFb2pOFM2JHeudduajJHfAISyV69e1BXhiGlqYlcFMUaA-8tco1h50l46xJM7ogT~piGtRKdw2ACcpd39V69vmOlv7i2FEz5EwsDxbUv292WRpp0FeP7lnyR33jvMhiYqkZaTOPqB8INSTkL5mKfyEQAKEDBXAzHaGxLxB9ZsEe1HqOgUXK5o0OjzOyzFjqm2ua9~nXUH1zgKe4g4dcO-jwFnAIYxCuLvxho7cVqQ1CPyNCnHUqKkydqAhnq-~kybNfbK-z9ENMA58msj2dc~h2wzIxTWoiXO~PmQ__&Key-Pair-Id=K2L8F4GPSG1IFC\\\", source: hyper_util::client::legacy::Error(SendRequest, hyper::Error(Io, Os { code: 110, kind: TimedOut, message: \\\"Connection timed out\\\" })) }). Retrying...\"},\"filename\":\"/home/runner/work/xet-core/xet-core/cas_client/src/http_client.rs\",\"line_number\":164}\n",
      "{\"timestamp\":\"2025-04-02T11:16:21.174314Z\",\"level\":\"WARN\",\"fields\":{\"message\":\"Retry attempt #0. Sleeping 1.902276013s before the next attempt\"},\"filename\":\"/root/.cargo/registry/src/index.crates.io-1949cf8c6b5b557f/reqwest-retry-0.6.1/src/middleware.rs\",\"line_number\":166}\n",
      "{\"timestamp\":\"2025-04-02T11:16:33.466135Z\",\"level\":\"WARN\",\"fields\":{\"message\":\"Reqwest(reqwest::Error { kind: Request, url: \\\"https://transfer.xethub.hf.co/xorbs/default/ed52b35ce3944d88d62e7b9ee7bf8900ea1d33fb4fcb418bad1ec88af489efea?X-Xet-Signed-Range=bytes%3D34389138-37092686&Expires=1743595144&Policy=eyJTdGF0ZW1lbnQiOlt7IlJlc291cmNlIjoiaHR0cHM6Ly90cmFuc2Zlci54ZXRodWIuaGYuY28veG9yYnMvZGVmYXVsdC9lZDUyYjM1Y2UzOTQ0ZDg4ZDYyZTdiOWVlN2JmODkwMGVhMWQzM2ZiNGZjYjQxOGJhZDFlYzg4YWY0ODllZmVhP1gtWGV0LVNpZ25lZC1SYW5nZT1ieXRlcyUzRDM0Mzg5MTM4LTM3MDkyNjg2IiwiQ29uZGl0aW9uIjp7IkRhdGVMZXNzVGhhbiI6eyJBV1M6RXBvY2hUaW1lIjoxNzQzNTk1MTQ0fX19XX0_&Signature=CaBTizZA4kBP0Zdt-xypcjUXUmaLDp56nPpwoiLFuKARZC43CTfbjD~XpsAwKZWLYcxOmFaBs6Vi9Q031WQYEsqWCyL60YVG3ZmgKGRc-FegYCE7Otc2OPMH4tFLUZzOnELor0B2aKM9lJwkWij85hCwK52AqHgZrcqCv5n6xz5-7NAqRGK28fS~Jt~1kbRb1Jwuffr0dXHx8AzaT7kJY0EUP9Rrtb3ZkOpEKDxv0oYhT20dVjV27rH~DF4Ggz7AlIRTs4MV-ag0qIJ99Yi9v1V4XI3-t-5wHic2G5ymAMhiHhto58pny5fKk-WXORhL5vLe8gjmE8C6SOhGcdgvWw__&Key-Pair-Id=K2L8F4GPSG1IFC\\\", source: hyper_util::client::legacy::Error(SendRequest, hyper::Error(Io, Os { code: 110, kind: TimedOut, message: \\\"Connection timed out\\\" })) }). Retrying...\"},\"filename\":\"/home/runner/work/xet-core/xet-core/cas_client/src/http_client.rs\",\"line_number\":164}\n",
      "{\"timestamp\":\"2025-04-02T11:16:33.466217Z\",\"level\":\"WARN\",\"fields\":{\"message\":\"Retry attempt #0. Sleeping 1.430857079s before the next attempt\"},\"filename\":\"/root/.cargo/registry/src/index.crates.io-1949cf8c6b5b557f/reqwest-retry-0.6.1/src/middleware.rs\",\"line_number\":166}\n",
      "{\"timestamp\":\"2025-04-02T11:16:45.753962Z\",\"level\":\"WARN\",\"fields\":{\"message\":\"Reqwest(reqwest::Error { kind: Request, url: \\\"https://transfer.xethub.hf.co/xorbs/default/ed52b35ce3944d88d62e7b9ee7bf8900ea1d33fb4fcb418bad1ec88af489efea?X-Xet-Signed-Range=bytes%3D28748633-31497328&Expires=1743595144&Policy=eyJTdGF0ZW1lbnQiOlt7IlJlc291cmNlIjoiaHR0cHM6Ly90cmFuc2Zlci54ZXRodWIuaGYuY28veG9yYnMvZGVmYXVsdC9lZDUyYjM1Y2UzOTQ0ZDg4ZDYyZTdiOWVlN2JmODkwMGVhMWQzM2ZiNGZjYjQxOGJhZDFlYzg4YWY0ODllZmVhP1gtWGV0LVNpZ25lZC1SYW5nZT1ieXRlcyUzRDI4NzQ4NjMzLTMxNDk3MzI4IiwiQ29uZGl0aW9uIjp7IkRhdGVMZXNzVGhhbiI6eyJBV1M6RXBvY2hUaW1lIjoxNzQzNTk1MTQ0fX19XX0_&Signature=uTx~K2~gQ-raXCXQrLHsphWyafkt6fxzF7LK0RMTnj7ul4ItFvbFYCvKi1Lgd8v5hRtz3uTelf~nsa2ZJiGIMiYD~Icxc-1j1DJfbyLZgd8VeONXaKWq4MMc8rioRAOtDYBfRvRGXC-NM9xRLbCQIydpYQ4zL~T6Y0U6jCrGl6nZmBvxJfLq~kStRq~qWgGlalP4wLVfrTiQhyF668-O4NT-~SLCWSvNNfQHHH~9vwBQk8LHGPAni8gEqgDq2E5vF8YHzDn4iT~aVlHDkFNz-7wdu0agP-OVZqxbgEXknVuuvTtj~3WqZ64qK47ETg3U4QneWWeAvG7xGiRvqX6~Xg__&Key-Pair-Id=K2L8F4GPSG1IFC\\\", source: hyper_util::client::legacy::Error(SendRequest, hyper::Error(Io, Os { code: 110, kind: TimedOut, message: \\\"Connection timed out\\\" })) }). Retrying...\"},\"filename\":\"/home/runner/work/xet-core/xet-core/cas_client/src/http_client.rs\",\"line_number\":164}\n",
      "{\"timestamp\":\"2025-04-02T11:16:45.754030Z\",\"level\":\"WARN\",\"fields\":{\"message\":\"Retry attempt #0. Sleeping 686.007094ms before the next attempt\"},\"filename\":\"/root/.cargo/registry/src/index.crates.io-1949cf8c6b5b557f/reqwest-retry-0.6.1/src/middleware.rs\",\"line_number\":166}\n",
      "{\"timestamp\":\"2025-04-02T11:16:51.893963Z\",\"level\":\"WARN\",\"fields\":{\"message\":\"Reqwest(reqwest::Error { kind: Request, url: \\\"https://transfer.xethub.hf.co/xorbs/default/cd3b670ac066da9ee1388f304e5e83225790a4100bba97ea56f444d8d01c02e1?X-Xet-Signed-Range=bytes%3D22705382-25397945&Expires=1743595144&Policy=eyJTdGF0ZW1lbnQiOlt7IlJlc291cmNlIjoiaHR0cHM6Ly90cmFuc2Zlci54ZXRodWIuaGYuY28veG9yYnMvZGVmYXVsdC9jZDNiNjcwYWMwNjZkYTllZTEzODhmMzA0ZTVlODMyMjU3OTBhNDEwMGJiYTk3ZWE1NmY0NDRkOGQwMWMwMmUxP1gtWGV0LVNpZ25lZC1SYW5nZT1ieXRlcyUzRDIyNzA1MzgyLTI1Mzk3OTQ1IiwiQ29uZGl0aW9uIjp7IkRhdGVMZXNzVGhhbiI6eyJBV1M6RXBvY2hUaW1lIjoxNzQzNTk1MTQ0fX19XX0_&Signature=aTDQuoFqSbpPzFiP0iAohsw12iA7rDkiBkaasqIn0HgMV-Mar5qKrIul9SrGD1TxEZjA95IX7XiCQ17F8Wtc1fepuFRlU4CeK2UYKfTxcx53RrzEFd5EJBsM2EaOJBvjMJHKXyNVc~~aRzO8imAgVAqKkKCsWN2DB5sB0KuYcc0U4c5~uTgeLHX0HXvAxWOhKQOGv-1WqG-tHQ3kwc6d16NnC6srACuis2FnNyeTmCkGHs7KHqDr2Sn9XpGOULxoSGa-NBw7nTrmyoewcVILwzqoZRJg34pXut52lBbBq-uIn4UYBNSGQfQ~GmGX4FHpQ3dpjt0aGGoOsAHwYLop2g__&Key-Pair-Id=K2L8F4GPSG1IFC\\\", source: hyper_util::client::legacy::Error(SendRequest, hyper::Error(Io, Os { code: 110, kind: TimedOut, message: \\\"Connection timed out\\\" })) }). Retrying...\"},\"filename\":\"/home/runner/work/xet-core/xet-core/cas_client/src/http_client.rs\",\"line_number\":164}\n",
      "{\"timestamp\":\"2025-04-02T11:16:51.894060Z\",\"level\":\"WARN\",\"fields\":{\"message\":\"Retry attempt #0. Sleeping 236.109903ms before the next attempt\"},\"filename\":\"/root/.cargo/registry/src/index.crates.io-1949cf8c6b5b557f/reqwest-retry-0.6.1/src/middleware.rs\",\"line_number\":166}\n"
     ]
    },
    {
     "name": "stderr",
     "output_type": "stream",
     "text": [
      "Device set to use cpu\n"
     ]
    },
    {
     "data": {
      "text/plain": [
       "{'sequence': 'This is a course about the Transformers library',\n",
       " 'labels': ['education', 'business', 'politics'],\n",
       " 'scores': [0.8445994257926941, 0.11197380721569061, 0.04342673346400261]}"
      ]
     },
     "execution_count": 6,
     "metadata": {},
     "output_type": "execute_result"
    }
   ],
   "source": [
    "classifier = pipeline(\"zero-shot-classification\")\n",
    "classifier(\n",
    "    \"This is a course about the Transformers library\",\n",
    "    candidate_labels=[\"education\", \"politics\", \"business\"],\n",
    ")"
   ]
  },
  {
   "cell_type": "markdown",
   "metadata": {},
   "source": [
    "### Text generation"
   ]
  },
  {
   "cell_type": "code",
   "execution_count": 4,
   "metadata": {},
   "outputs": [
    {
     "name": "stderr",
     "output_type": "stream",
     "text": [
      "No model was supplied, defaulted to openai-community/gpt2 and revision 607a30d (https://huggingface.co/openai-community/gpt2).\n",
      "Using a pipeline without specifying a model name and revision in production is not recommended.\n",
      "Device set to use cpu\n",
      "Setting `pad_token_id` to `eos_token_id`:50256 for open-end generation.\n"
     ]
    },
    {
     "data": {
      "text/plain": [
       "[{'generated_text': 'In this course, we will teach you how to make your own homemade and customizable dough. When you begin, you will gain:\\n\\nA more professional style, more sophisticated design, creating your own recipes, and much more.\\n\\nA fun'}]"
      ]
     },
     "execution_count": 4,
     "metadata": {},
     "output_type": "execute_result"
    }
   ],
   "source": [
    "generator = pipeline(\"text-generation\")\n",
    "generator(\"In this course, we will teach you how to\")"
   ]
  },
  {
   "cell_type": "markdown",
   "metadata": {},
   "source": [
    "### Using other models"
   ]
  },
  {
   "cell_type": "code",
   "execution_count": 5,
   "metadata": {},
   "outputs": [
    {
     "name": "stderr",
     "output_type": "stream",
     "text": [
      "Device set to use cpu\n",
      "Truncation was not explicitly activated but `max_length` is provided a specific value, please use `truncation=True` to explicitly truncate examples to max length. Defaulting to 'longest_first' truncation strategy. If you encode pairs of sequences (GLUE-style) with the tokenizer you can select this strategy more precisely by providing a specific strategy to `truncation`.\n",
      "Setting `pad_token_id` to `eos_token_id`:50256 for open-end generation.\n"
     ]
    },
    {
     "data": {
      "text/plain": [
       "[{'generated_text': 'In this course, we will teach you how to build a personal, safe and secure way to connect with our clients without compromising your trust.'},\n",
       " {'generated_text': 'In this course, we will teach you how to convert a book into a website. You will begin by taking the book into your own hands. This'}]"
      ]
     },
     "execution_count": 5,
     "metadata": {},
     "output_type": "execute_result"
    }
   ],
   "source": [
    "generator = pipeline(\"text-generation\", model=\"distilgpt2\")\n",
    "generator(\n",
    "    \"In this course, we will teach you how to\",\n",
    "    max_length=30,\n",
    "    num_return_sequences=2,\n",
    ")"
   ]
  }
 ],
 "metadata": {
  "kernelspec": {
   "display_name": "HuggFace",
   "language": "python",
   "name": "python3"
  },
  "language_info": {
   "codemirror_mode": {
    "name": "ipython",
    "version": 3
   },
   "file_extension": ".py",
   "mimetype": "text/x-python",
   "name": "python",
   "nbconvert_exporter": "python",
   "pygments_lexer": "ipython3",
   "version": "3.12.2"
  }
 },
 "nbformat": 4,
 "nbformat_minor": 2
}
